{
 "cells": [
  {
   "cell_type": "code",
   "execution_count": 73,
   "metadata": {
    "collapsed": false
   },
   "outputs": [],
   "source": [
    "import numpy as np\n",
    "from sklearn.cross_validation import KFold\n",
    "from sklearn.datasets import load_iris\n",
    "import math\n",
    "from sklearn.metrics import accuracy_score\n",
    "from sklearn.metrics import confusion_matrix\n",
    "from sklearn.neural_network import MLPClassifier\n",
    "\n",
    "# Load iris data\n",
    "iris = load_iris()\n"
   ]
  },
  {
   "cell_type": "code",
   "execution_count": 74,
   "metadata": {
    "collapsed": true
   },
   "outputs": [],
   "source": [
    "# Sigmoid function\n",
    "def sigmoid_function(xVal):\n",
    "    output_val = 1 / (1 + np.exp(-xVal))\n",
    "    return output_val\n"
   ]
  },
  {
   "cell_type": "code",
   "execution_count": 75,
   "metadata": {
    "collapsed": true
   },
   "outputs": [],
   "source": [
    "# Derivative function\n",
    "\n",
    "def derivative(output_val):\n",
    "    return output_val * (1 - output_val)"
   ]
  },
  {
   "cell_type": "code",
   "execution_count": 76,
   "metadata": {
    "collapsed": true
   },
   "outputs": [],
   "source": [
    "# find parameters\n",
    "\n",
    "def findOtherParameters(confusion_mat):\n",
    "    \n",
    "    list_diagonal = np.zeros(confusion_mat.shape[0])\n",
    "    list_row_sum = np.zeros(confusion_mat.shape[0])\n",
    "    list_column_sum=np.zeros(confusion_mat.shape[1])\n",
    "    \n",
    "    precision_value = []\n",
    "    recall_value = []\n",
    "    f_measure_value = []\n",
    "    \n",
    "    total = np.sum(confusion_mat)\n",
    "    confuse_diagonal = 0\n",
    "\n",
    "    for i in range(confusion_mat.shape[0]):\n",
    "        for j in range(confusion_mat.shape[1]):\n",
    "            list_row_sum[i] += confusion_mat[i][j]\n",
    "            list_column_sum[i] += confusion_mat[j][i]\n",
    "            if(i==j):\n",
    "                list_diagonal[i] = confusion_mat[i][j]\n",
    "                confuse_diagonal +=  confusion_mat[i][j]\n",
    "    \n",
    "    accuracy = float(confuse_diagonal)/total\n",
    "\n",
    "    return accuracy"
   ]
  },
  {
   "cell_type": "code",
   "execution_count": 77,
   "metadata": {
    "collapsed": false
   },
   "outputs": [],
   "source": [
    "# store data in data and target set\n",
    "\n",
    "matrix, y = iris.data, iris.target\n",
    "y = y.reshape(y.shape[0], 1)\n",
    "\n",
    "weight = np.zeros((matrix.shape[1], 1))"
   ]
  },
  {
   "cell_type": "code",
   "execution_count": 80,
   "metadata": {
    "collapsed": false
   },
   "outputs": [
    {
     "name": "stdout",
     "output_type": "stream",
     "text": [
      "\n",
      "Accuracy is : 67.1428571429 %.\n"
     ]
    }
   ],
   "source": [
    "# run program for K-fold\n",
    "\n",
    "accuracy = 0.0\n",
    "temp=0\n",
    "list_array = []\n",
    "\n",
    "kf = KFold(matrix.shape[0], n_folds=20, shuffle=True)\n",
    "for train, test in kf:\n",
    "    \n",
    "    X_train, X_test = matrix[train], matrix[test]\n",
    "    Y_train, Y_test = y[train], y[test]\n",
    "\n",
    "    for i in xrange(10000):\n",
    "        layer_0 = X_test\n",
    "        layer_1 = sigmoid_function(np.dot(layer_0, weight))\n",
    "\n",
    "        layer_1_error = layer_1 - Y_test\n",
    "\n",
    "        layer_1_delta = layer_1_error * derivative(layer_1)\n",
    "        synapse_derivative = np.dot(layer_0.T, layer_1_delta)\n",
    "\n",
    "        weight = weight - synapse_derivative\n",
    "\n",
    "    predictY = map(lambda x:math.ceil(x),layer_1)\n",
    "    accuracy = accuracy + accuracy_score(Y_test, predictY)\n",
    "\n",
    "print \"\\nAccuracy is : {0} %.\" .format(accuracy*10)\n"
   ]
  },
  {
   "cell_type": "code",
   "execution_count": 46,
   "metadata": {
    "collapsed": false
   },
   "outputs": [
    {
     "name": "stdout",
     "output_type": "stream",
     "text": [
      "Iteration 1, loss = 2.53151784\n",
      "Iteration 2, loss = 3.99249831\n",
      "Iteration 3, loss = 1.29474379\n",
      "Iteration 4, loss = 0.96890436\n",
      "Iteration 5, loss = 0.87465925\n",
      "Iteration 6, loss = 0.80676383\n",
      "Iteration 7, loss = 0.58819535\n",
      "Iteration 8, loss = 0.48648006\n",
      "Iteration 9, loss = 0.44631030\n",
      "Iteration 10, loss = 0.41647224\n",
      "Accuracy is :  80.0  % \n"
     ]
    },
    {
     "name": "stderr",
     "output_type": "stream",
     "text": [
      "/home/jaimin/anaconda2/lib/python2.7/site-packages/sklearn/neural_network/multilayer_perceptron.py:902: DataConversionWarning: A column-vector y was passed when a 1d array was expected. Please change the shape of y to (n_samples, ), for example using ravel().\n",
      "  y = column_or_1d(y, warn=True)\n"
     ]
    }
   ],
   "source": [
    "X_train, X_test = matrix[:135], matrix[135:]\n",
    "Y_train, Y_test = y[:135], y[135:]\n",
    "    \n",
    "mlp = MLPClassifier(hidden_layer_sizes=(50,), max_iter=10, alpha=1e-4,\n",
    "                    algorithm='sgd', verbose=10, tol=1e-4, random_state=1,\n",
    "                    learning_rate_init=.1)\n",
    "\n",
    "mlp.fit(X_train, Y_train)\n",
    "print\"Accuracy is : \", mlp.score(X_test, Y_test)*100, \" % \""
   ]
  }
 ],
 "metadata": {
  "kernelspec": {
   "display_name": "Python 2",
   "language": "python",
   "name": "python2"
  },
  "language_info": {
   "codemirror_mode": {
    "name": "ipython",
    "version": 2
   },
   "file_extension": ".py",
   "mimetype": "text/x-python",
   "name": "python",
   "nbconvert_exporter": "python",
   "pygments_lexer": "ipython2",
   "version": "2.7.11"
  }
 },
 "nbformat": 4,
 "nbformat_minor": 0
}
